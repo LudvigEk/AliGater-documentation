{
 "cells": [
  {
   "cell_type": "markdown",
   "metadata": {},
   "source": [
    "## Batch processing (the AGExperiment object)\n",
    "The main point of AliGater is to batch proccess many samples using the same strategy. This is mainly orchestrated through the AGExperiment object.\n",
    "\n",
    "An AGExperiment has some settings that merits some explanation"
   ]
  },
  {
   "cell_type": "code",
   "execution_count": 2,
   "metadata": {},
   "outputs": [
    {
     "name": "stderr",
     "output_type": "stream",
     "text": [
      "AliGater started in Jupyter mode\n"
     ]
    }
   ],
   "source": [
    "import aligater as ag"
   ]
  },
  {
   "cell_type": "markdown",
   "metadata": {},
   "source": [
    "At its core an AGExperiment takes a _path_ or a list of complete filepaths. The two below ways of initializing an AGExperiment are equal."
   ]
  },
  {
   "cell_type": "code",
   "execution_count": 13,
   "metadata": {},
   "outputs": [
    {
     "name": "stderr",
     "output_type": "stream",
     "text": [
      "No experiment name specified, generated name: AGexperiment_2020-09-01_13_09_36.817532\n",
      "Collected 3 files, 0 files did not pass filter(s) and mask(s).\n"
     ]
    }
   ],
   "source": [
    "#Initializing with a folder path\n",
    "exp=ag.AGExperiment(ag.AGConfig.ag_home+\"tutorial/data\")"
   ]
  },
  {
   "cell_type": "code",
   "execution_count": 14,
   "metadata": {},
   "outputs": [
    {
     "name": "stderr",
     "output_type": "stream",
     "text": [
      "No experiment name specified, generated name: AGexperiment_2020-09-01_13_09_42.220028\n",
      "Experiment initialised with file list. Checking entries...\n",
      "All file paths exists.\n",
      "Collected 3 files, 0 files did not pass filter(s) and mask(s).\n"
     ]
    }
   ],
   "source": [
    "#Initializing with a file list\n",
    "sample_list=[ag.AGConfig.ag_home+\"tutorial/data/Compensated.fcs\",\n",
    "             ag.AGConfig.ag_home+\"tutorial/data/Uncompensated.fcs\",\n",
    "             ag.AGConfig.ag_home+\"tutorial/data/example1.fcs\"]\n",
    "exp=ag.AGExperiment(sample_list)"
   ]
  },
  {
   "cell_type": "markdown",
   "metadata": {},
   "source": [
    "**Naming an experiment**\n",
    "\n",
    "To organise output from the experiment it's useful to name Experiment, which is done through the experiment_name option. Output will be placed in a folder with this name inside the path defined in AGConfig.ag_out.\n"
   ]
  },
  {
   "cell_type": "code",
   "execution_count": 15,
   "metadata": {},
   "outputs": [
    {
     "name": "stderr",
     "output_type": "stream",
     "text": [
      "WARNING: specified output directory (/media/ludvig/Project_Storage/BloodVariome/aligater_output/tutorial) already exists, content in folder might be overwritten without warning\n",
      "Collected 3 files, 0 files did not pass filter(s) and mask(s).\n"
     ]
    }
   ],
   "source": [
    "#Initializing with a folder path\n",
    "exp=ag.AGExperiment(ag.AGConfig.ag_home+\"tutorial/data\", experiment_name=\"tutorial\")"
   ]
  },
  {
   "cell_type": "markdown",
   "metadata": {},
   "source": [
    "As seen above, if such a folder already exists, aligater will print a warning. Aligater will print output to this folder, and if content is already present with the same name, that content will be overwritten without confirmation."
   ]
  },
  {
   "cell_type": "markdown",
   "metadata": {},
   "source": [
    "**Filters & masks**\n",
    "When collecting files by specifying a folder it might be useful to apply filters to guide the selection, such as case or sample vs control. This can be done by supplying two lists. Note that filters are _case sensitive_ :\n",
    "\n",
    "**filters** - Filters should be a list-like containing strings, if _any_ part of the file path is matched by one or more of the filters, the file is collected.\n",
    "\n",
    "**masks** - mask should be list-like containing strings, if _any_ party of the file path is matched by one or more of the filters, the file is discarded."
   ]
  },
  {
   "cell_type": "code",
   "execution_count": 16,
   "metadata": {},
   "outputs": [
    {
     "name": "stderr",
     "output_type": "stream",
     "text": [
      "1 filter(s) defined\n",
      "WARNING: specified output directory (/media/ludvig/Project_Storage/BloodVariome/aligater_output/tutorial) already exists, content in folder might be overwritten without warning\n",
      "Collected 1 files, 2 files did not pass filter(s) and mask(s).\n"
     ]
    }
   ],
   "source": [
    "#Single filter 'compensated'\n",
    "exp=ag.AGExperiment(ag.AGConfig.ag_home+\"tutorial/data\",\n",
    "                    filters=['compensated'],\n",
    "                    experiment_name=\"tutorial\")"
   ]
  },
  {
   "cell_type": "code",
   "execution_count": 17,
   "metadata": {},
   "outputs": [
    {
     "name": "stderr",
     "output_type": "stream",
     "text": [
      "1 filter(s) defined\n",
      "WARNING: specified output directory (/media/ludvig/Project_Storage/BloodVariome/aligater_output/tutorial) already exists, content in folder might be overwritten without warning\n",
      "Collected 2 files, 1 files did not pass filter(s) and mask(s).\n"
     ]
    }
   ],
   "source": [
    "#Single filter 'ompensated' yields another file\n",
    "exp=ag.AGExperiment(ag.AGConfig.ag_home+\"tutorial/data\",\n",
    "                    filters=['ompensated'],\n",
    "                    experiment_name=\"tutorial\")"
   ]
  },
  {
   "cell_type": "code",
   "execution_count": 18,
   "metadata": {},
   "outputs": [
    {
     "name": "stderr",
     "output_type": "stream",
     "text": [
      "1 filter(s) defined\n",
      "1 mask(s) defined\n",
      "WARNING: specified output directory (/media/ludvig/Project_Storage/BloodVariome/aligater_output/tutorial) already exists, content in folder might be overwritten without warning\n",
      "Collected 1 files, 2 files did not pass filter(s) and mask(s).\n"
     ]
    }
   ],
   "source": [
    "#Adding a mask will reduce the number of collected files again\n",
    "exp=ag.AGExperiment(ag.AGConfig.ag_home+\"tutorial/data\",\n",
    "                    filters=['ompensated'],\n",
    "                    mask=['Uncompensated'],\n",
    "                    experiment_name=\"tutorial\")"
   ]
  },
  {
   "cell_type": "markdown",
   "metadata": {},
   "source": [
    "**Useful flags & options**\n",
    "\n",
    "There are several additional flags and options that can be supplied to the AGExperiment, see the functions documentation information."
   ]
  }
 ],
 "metadata": {
  "kernelspec": {
   "display_name": "Python 3",
   "language": "python",
   "name": "python3"
  },
  "language_info": {
   "codemirror_mode": {
    "name": "ipython",
    "version": 3
   },
   "file_extension": ".py",
   "mimetype": "text/x-python",
   "name": "python",
   "nbconvert_exporter": "python",
   "pygments_lexer": "ipython3",
   "version": "3.7.6"
  }
 },
 "nbformat": 4,
 "nbformat_minor": 2
}
